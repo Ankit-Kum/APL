{
  "cells": [
    {
      "cell_type": "markdown",
      "metadata": {},
      "source": []
    },
    {
      "cell_type": "code",
      "execution_count": 1,
      "metadata": {
        "colab": {
          "base_uri": "https://localhost:8080/"
        },
        "id": "FTPWiHQ_y4Jf",
        "outputId": "c00944b7-85a6-484b-b0c1-95eccc205d66"
      },
      "outputs": [
        {
          "name": "stdout",
          "output_type": "stream",
          "text": [
            "[[3 5 2 1]\n",
            " [6 3 9 5]\n",
            " [1 7 4 8]]\n"
          ]
        }
      ],
      "source": [
        "import numpy as np\n",
        "n1 = np.array([[3,5,2,1],[6,3,9,5],[1,7,4,8]])\n",
        "print(n1)"
      ]
    },
    {
      "cell_type": "code",
      "execution_count": null,
      "metadata": {},
      "outputs": [],
      "source": []
    },
    {
      "cell_type": "code",
      "execution_count": 2,
      "metadata": {
        "colab": {
          "base_uri": "https://localhost:8080/"
        },
        "id": "oYgDX5y-zEGI",
        "outputId": "18f3766f-60bc-4c4c-f4a1-ac42a0a00461"
      },
      "outputs": [
        {
          "data": {
            "text/plain": [
              "array([3, 5, 2, 1, 6, 3, 9, 5, 1, 7, 4, 8])"
            ]
          },
          "execution_count": 2,
          "metadata": {},
          "output_type": "execute_result"
        }
      ],
      "source": [
        "n1.ravel()"
      ]
    },
    {
      "cell_type": "code",
      "execution_count": 3,
      "metadata": {
        "colab": {
          "base_uri": "https://localhost:8080/"
        },
        "id": "OZIsxxKCzU7W",
        "outputId": "608a8b80-159c-49c9-d9a2-ab5904565e6d"
      },
      "outputs": [
        {
          "data": {
            "text/plain": [
              "array([3, 5, 2, 1, 6, 3, 9, 5, 1, 7, 4, 8])"
            ]
          },
          "execution_count": 3,
          "metadata": {},
          "output_type": "execute_result"
        }
      ],
      "source": [
        "n1.flatten()"
      ]
    },
    {
      "cell_type": "markdown",
      "metadata": {
        "id": "IBQyFdHrzriR"
      },
      "source": [
        "* Matrix multiplications"
      ]
    },
    {
      "cell_type": "code",
      "execution_count": 4,
      "metadata": {
        "colab": {
          "base_uri": "https://localhost:8080/"
        },
        "id": "QqZo7mc6zXZl",
        "outputId": "489c17f9-584e-40bf-84c6-51d5900c9ba5"
      },
      "outputs": [
        {
          "name": "stdout",
          "output_type": "stream",
          "text": [
            "[[3 5 2 1]\n",
            " [6 3 9 5]\n",
            " [1 7 4 8]]\n"
          ]
        }
      ],
      "source": [
        "print(n1)"
      ]
    },
    {
      "cell_type": "code",
      "execution_count": 5,
      "metadata": {
        "colab": {
          "base_uri": "https://localhost:8080/"
        },
        "id": "u7FsW1Byzvwe",
        "outputId": "8cabbb6c-7c2e-4f45-8565-db1ec396c217"
      },
      "outputs": [
        {
          "name": "stdout",
          "output_type": "stream",
          "text": [
            "[[2 5 5 1]\n",
            " [3 8 9 2]]\n"
          ]
        }
      ],
      "source": [
        "n2 = np.array([[2,5,5,1],\n",
        "               [3,8,9,2]])\n",
        "print(n2)"
      ]
    },
    {
      "cell_type": "code",
      "execution_count": 6,
      "metadata": {
        "colab": {
          "base_uri": "https://localhost:8080/"
        },
        "id": "n0RFVWyJ0G87",
        "outputId": "ead9d886-3d0e-4c97-98ec-d4e87d00976a"
      },
      "outputs": [
        {
          "data": {
            "text/plain": [
              "array([[2, 3],\n",
              "       [5, 8],\n",
              "       [5, 9],\n",
              "       [1, 2]])"
            ]
          },
          "execution_count": 6,
          "metadata": {},
          "output_type": "execute_result"
        }
      ],
      "source": [
        "np.transpose(n2)"
      ]
    },
    {
      "cell_type": "code",
      "execution_count": 7,
      "metadata": {
        "colab": {
          "base_uri": "https://localhost:8080/"
        },
        "id": "86d9q8sqz4SQ",
        "outputId": "e64e7dc0-6aa4-4e64-beaf-f1c954cb5eac"
      },
      "outputs": [
        {
          "data": {
            "text/plain": [
              "array([[ 42,  69],\n",
              "       [ 77, 133],\n",
              "       [ 65, 111]])"
            ]
          },
          "execution_count": 7,
          "metadata": {},
          "output_type": "execute_result"
        }
      ],
      "source": [
        "np.dot(n1,np.transpose(n2))"
      ]
    },
    {
      "cell_type": "code",
      "execution_count": 8,
      "metadata": {
        "id": "r4Da26cUz8cu"
      },
      "outputs": [],
      "source": [
        "#3x + 2y + z = 5\n",
        "#x + y + z = 7\n",
        "#5x + 7y + 3z = 9"
      ]
    },
    {
      "cell_type": "code",
      "execution_count": 9,
      "metadata": {
        "colab": {
          "base_uri": "https://localhost:8080/"
        },
        "id": "Y5tTVC6F1Ky-",
        "outputId": "317a53cc-b9ae-4776-9209-6008395e1be0"
      },
      "outputs": [
        {
          "name": "stdout",
          "output_type": "stream",
          "text": [
            "[[3 2 1]\n",
            " [1 1 1]\n",
            " [5 7 3]]\n"
          ]
        }
      ],
      "source": [
        "A = np.array([[3,2,1],[1,1,1],[5,7,3]])\n",
        "print(A)"
      ]
    },
    {
      "cell_type": "code",
      "execution_count": 10,
      "metadata": {
        "colab": {
          "base_uri": "https://localhost:8080/"
        },
        "id": "M5WU8keJ1Siw",
        "outputId": "f470149a-3446-440e-d392-1e75f6aae825"
      },
      "outputs": [
        {
          "name": "stdout",
          "output_type": "stream",
          "text": [
            "[['x']\n",
            " ['y']\n",
            " ['z']]\n"
          ]
        }
      ],
      "source": [
        "X = np.array([['x'],['y'],['z']])\n",
        "print(X)"
      ]
    },
    {
      "cell_type": "code",
      "execution_count": 11,
      "metadata": {
        "colab": {
          "base_uri": "https://localhost:8080/"
        },
        "id": "Ltc25kWu1XiR",
        "outputId": "b86f29d4-5305-4877-fb93-a31bbbcc85a1"
      },
      "outputs": [
        {
          "name": "stdout",
          "output_type": "stream",
          "text": [
            "[[5]\n",
            " [7]\n",
            " [9]]\n"
          ]
        }
      ],
      "source": [
        "B = np.array([[5],[7],[9]])\n",
        "print(B)"
      ]
    },
    {
      "cell_type": "code",
      "execution_count": 12,
      "metadata": {
        "id": "d9vOHO7A1bsz"
      },
      "outputs": [],
      "source": [
        "#A.X = B\n",
        "#X = A_inv.B"
      ]
    },
    {
      "cell_type": "code",
      "execution_count": 13,
      "metadata": {
        "colab": {
          "base_uri": "https://localhost:8080/"
        },
        "id": "5Bw8t_6X1f9F",
        "outputId": "d2fcee6d-d30c-4509-c68c-38ceda12c72f"
      },
      "outputs": [
        {
          "name": "stdout",
          "output_type": "stream",
          "text": [
            "[[ 0.66666667 -0.16666667 -0.16666667]\n",
            " [-0.33333333 -0.66666667  0.33333333]\n",
            " [-0.33333333  1.83333333 -0.16666667]]\n"
          ]
        }
      ],
      "source": [
        "A_inv = np.linalg.inv(A)\n",
        "print(A_inv)"
      ]
    },
    {
      "cell_type": "code",
      "execution_count": 14,
      "metadata": {
        "colab": {
          "base_uri": "https://localhost:8080/"
        },
        "id": "wfBXcNJ51lL8",
        "outputId": "1ef88afa-3a7a-4e17-d086-ab70ea19efbe"
      },
      "outputs": [
        {
          "name": "stdout",
          "output_type": "stream",
          "text": [
            "[[ 0.66666667]\n",
            " [-3.33333333]\n",
            " [ 9.66666667]]\n"
          ]
        }
      ],
      "source": [
        "X = np.dot(A_inv,B)\n",
        "print(X)"
      ]
    },
    {
      "cell_type": "code",
      "execution_count": 15,
      "metadata": {
        "colab": {
          "base_uri": "https://localhost:8080/"
        },
        "id": "dJUeoH0_1oOC",
        "outputId": "ae2c6fe4-5207-4c27-94b1-0e2aa5d73e78"
      },
      "outputs": [
        {
          "data": {
            "text/plain": [
              "array([[5.],\n",
              "       [7.],\n",
              "       [9.]])"
            ]
          },
          "execution_count": 15,
          "metadata": {},
          "output_type": "execute_result"
        }
      ],
      "source": [
        "np.dot(A,X)"
      ]
    },
    {
      "cell_type": "code",
      "execution_count": 16,
      "metadata": {
        "colab": {
          "base_uri": "https://localhost:8080/"
        },
        "id": "hESJF5Za1ti0",
        "outputId": "eb293b5a-6d73-4877-b6af-f5181be106ad"
      },
      "outputs": [
        {
          "data": {
            "text/plain": [
              "array([[0., 0., 0., 0.],\n",
              "       [0., 0., 0., 0.],\n",
              "       [0., 0., 0., 0.],\n",
              "       [0., 0., 0., 0.],\n",
              "       [0., 0., 0., 0.]])"
            ]
          },
          "execution_count": 16,
          "metadata": {},
          "output_type": "execute_result"
        }
      ],
      "source": [
        "np.zeros([5,4])"
      ]
    },
    {
      "cell_type": "code",
      "execution_count": 17,
      "metadata": {
        "colab": {
          "base_uri": "https://localhost:8080/"
        },
        "id": "GT3BEXsJ1-i0",
        "outputId": "5dba4d03-376c-4980-e789-3c886109935b"
      },
      "outputs": [
        {
          "data": {
            "text/plain": [
              "array([[1., 1.],\n",
              "       [1., 1.],\n",
              "       [1., 1.]])"
            ]
          },
          "execution_count": 17,
          "metadata": {},
          "output_type": "execute_result"
        }
      ],
      "source": [
        "np.ones([3,2])"
      ]
    },
    {
      "cell_type": "code",
      "execution_count": 18,
      "metadata": {
        "colab": {
          "base_uri": "https://localhost:8080/"
        },
        "id": "2DO8__t52AjV",
        "outputId": "a268f5dc-8d25-405d-8fc9-75b988503e5d"
      },
      "outputs": [
        {
          "data": {
            "text/plain": [
              "array([[1., 0., 0., 0.],\n",
              "       [0., 1., 0., 0.],\n",
              "       [0., 0., 1., 0.],\n",
              "       [0., 0., 0., 1.]])"
            ]
          },
          "execution_count": 18,
          "metadata": {},
          "output_type": "execute_result"
        }
      ],
      "source": [
        "np.eye(4)"
      ]
    },
    {
      "cell_type": "code",
      "execution_count": 19,
      "metadata": {
        "colab": {
          "base_uri": "https://localhost:8080/"
        },
        "id": "4LqAs0Qh2C-8",
        "outputId": "41414d6a-3c3e-4a3b-a518-19b8f1ffc18b"
      },
      "outputs": [
        {
          "name": "stdout",
          "output_type": "stream",
          "text": [
            "[[3 5 2 1]\n",
            " [6 3 9 5]\n",
            " [1 7 4 8]]\n"
          ]
        }
      ],
      "source": [
        "n1 = np.array([[3,5,2,1],[6,3,9,5],[1,7,4,8]])\n",
        "print(n1)"
      ]
    },
    {
      "cell_type": "code",
      "execution_count": 20,
      "metadata": {
        "colab": {
          "base_uri": "https://localhost:8080/"
        },
        "id": "8APZzdzF2pPz",
        "outputId": "98013e99-2ee1-4320-d506-6065fe0817f9"
      },
      "outputs": [
        {
          "name": "stdout",
          "output_type": "stream",
          "text": [
            "[[3 9]\n",
            " [7 4]]\n"
          ]
        }
      ],
      "source": [
        "n3 = n1[1:3,1:3].copy()\n",
        "print(n3)"
      ]
    },
    {
      "cell_type": "code",
      "execution_count": 21,
      "metadata": {
        "id": "98nJgM5j2sgf"
      },
      "outputs": [],
      "source": [
        "n3[1,1] = 44"
      ]
    },
    {
      "cell_type": "code",
      "execution_count": 22,
      "metadata": {
        "colab": {
          "base_uri": "https://localhost:8080/"
        },
        "id": "aAyt7MH72yf8",
        "outputId": "1c12e065-b121-4320-eab0-0decd655d7f8"
      },
      "outputs": [
        {
          "name": "stdout",
          "output_type": "stream",
          "text": [
            "[[ 3  9]\n",
            " [ 7 44]]\n"
          ]
        }
      ],
      "source": [
        "print(n3)"
      ]
    },
    {
      "cell_type": "code",
      "execution_count": 23,
      "metadata": {
        "colab": {
          "base_uri": "https://localhost:8080/"
        },
        "id": "YS7BOyMG213-",
        "outputId": "cfeb6cde-e9d4-4ee5-f858-1eac5ce3751a"
      },
      "outputs": [
        {
          "name": "stdout",
          "output_type": "stream",
          "text": [
            "[[3 5 2 1]\n",
            " [6 3 9 5]\n",
            " [1 7 4 8]]\n"
          ]
        }
      ],
      "source": [
        "print(n1)"
      ]
    },
    {
      "cell_type": "markdown",
      "metadata": {
        "id": "oTTf7Ufy4qbW"
      },
      "source": [
        "Assignment 1 - Working with NumPy\n",
        "\n",
        "\n",
        "Objective Understand the basics of NumPy, array creation, and manipulation.\n",
        "\n",
        "\n",
        "Instructions \n",
        "\n",
        "\n",
        "Step 1 Install NumPy using\n",
        "pip install numpy\n",
        "\n",
        "\n",
        "Step 2 Create a new Python script numpy_assignment.ipynb. Import NumPy and follow these steps:  \n",
        "\n",
        "\n",
        "1. Create a 1D NumPy array with integers from 1 to 20. Perform the following operations:  \n",
        "  a. Calculate the sum, mean, median, and standard deviation of the elements in the array.  \n",
        "  b. Find the indices of elements greater than 10 in the array.  \n",
        "\n",
        "\n",
        "2. Create a 2D NumPy array of shape 4 X 4 with numbers ranging from 1 to 16.  \n",
        "  a. Print the array.  \n",
        "  b. Find the transpose of the array.  \n",
        "  c. Calculate the row-wise and column-wise sums of the array.  \n",
        "\n",
        "\n",
        "3. Create two 3 X 3 arrays filled with random integers between 1 and 20.  \n",
        "  a. Perform element-wise addition, subtraction, and multiplication.  \n",
        "  b. Compute the dot product of the two arrays.  \n",
        "\n",
        "\n",
        "4. Reshape a 1D array of size 12 into a 3 X 4 2D array and slice the first two rows and last two columns.  \n"
      ]
    },
    {
      "cell_type": "code",
      "execution_count": 24,
      "metadata": {},
      "outputs": [
        {
          "name": "stdout",
          "output_type": "stream",
          "text": [
            "1D Array: [ 1  2  3  4  5  6  7  8  9 10 11 12 13 14 15 16 17 18 19 20]\n",
            "Sum: 210\n",
            "Mean: 10.5\n",
            "Median: 10.5\n",
            "Standard Deviation: 5.766281297335398\n",
            "Indices > 10: [10 11 12 13 14 15 16 17 18 19]\n",
            "\n",
            "2D Array (4x4):\n",
            " [[ 1  2  3  4]\n",
            " [ 5  6  7  8]\n",
            " [ 9 10 11 12]\n",
            " [13 14 15 16]]\n",
            "Transpose:\n",
            " [[ 1  5  9 13]\n",
            " [ 2  6 10 14]\n",
            " [ 3  7 11 15]\n",
            " [ 4  8 12 16]]\n",
            "Row sums: [10 26 42 58]\n",
            "Column sums: [28 32 36 40]\n",
            "\n",
            "Array A:\n",
            " [[17  9 13]\n",
            " [ 7  5 13]\n",
            " [ 2 19  4]]\n",
            "Array B:\n",
            " [[13 17  1]\n",
            " [13  7 19]\n",
            " [18  6  5]]\n",
            "Addition:\n",
            " [[30 26 14]\n",
            " [20 12 32]\n",
            " [20 25  9]]\n",
            "Subtraction:\n",
            " [[  4  -8  12]\n",
            " [ -6  -2  -6]\n",
            " [-16  13  -1]]\n",
            "Multiplication:\n",
            " [[221 153  13]\n",
            " [ 91  35 247]\n",
            " [ 36 114  20]]\n",
            "Dot Product:\n",
            " [[572 430 253]\n",
            " [390 232 167]\n",
            " [345 191 383]]\n",
            "\n",
            "Reshaped 3x4 Array:\n",
            " [[ 1  2  3  4]\n",
            " [ 5  6  7  8]\n",
            " [ 9 10 11 12]]\n",
            "Sliced (first 2 rows, last 2 cols):\n",
            " [[3 4]\n",
            " [7 8]]\n"
          ]
        }
      ],
      "source": [
        "import numpy as np\n",
        "\n",
        "# --------------------------\n",
        "# 1. 1D Array\n",
        "# --------------------------\n",
        "arr1 = np.arange(1, 21)\n",
        "\n",
        "# a. Statistics\n",
        "print(\"1D Array:\", arr1)\n",
        "print(\"Sum:\", np.sum(arr1))\n",
        "print(\"Mean:\", np.mean(arr1))\n",
        "print(\"Median:\", np.median(arr1))\n",
        "print(\"Standard Deviation:\", np.std(arr1))\n",
        "\n",
        "# b. Indices of elements > 10\n",
        "print(\"Indices > 10:\", np.where(arr1 > 10)[0])\n",
        "\n",
        "# --------------------------\n",
        "# 2. 2D Array (4x4)\n",
        "# --------------------------\n",
        "arr2 = np.arange(1, 17).reshape(4, 4)\n",
        "print(\"\\n2D Array (4x4):\\n\", arr2)\n",
        "\n",
        "# a. Transpose\n",
        "print(\"Transpose:\\n\", arr2.T)\n",
        "\n",
        "# b. Row-wise and column-wise sums\n",
        "print(\"Row sums:\", np.sum(arr2, axis=1))\n",
        "print(\"Column sums:\", np.sum(arr2, axis=0))\n",
        "\n",
        "# --------------------------\n",
        "# 3. Random 3x3 Arrays\n",
        "# --------------------------\n",
        "arr3_a = np.random.randint(1, 21, (3, 3))\n",
        "arr3_b = np.random.randint(1, 21, (3, 3))\n",
        "\n",
        "print(\"\\nArray A:\\n\", arr3_a)\n",
        "print(\"Array B:\\n\", arr3_b)\n",
        "\n",
        "# a. Element-wise operations\n",
        "print(\"Addition:\\n\", arr3_a + arr3_b)\n",
        "print(\"Subtraction:\\n\", arr3_a - arr3_b)\n",
        "print(\"Multiplication:\\n\", arr3_a * arr3_b)\n",
        "\n",
        "# b. Dot product\n",
        "print(\"Dot Product:\\n\", np.dot(arr3_a, arr3_b))\n",
        "\n",
        "# --------------------------\n",
        "# 4. Reshape and Slice\n",
        "# --------------------------\n",
        "arr4 = np.arange(1, 13).reshape(3, 4)\n",
        "print(\"\\nReshaped 3x4 Array:\\n\", arr4)\n",
        "print(\"Sliced (first 2 rows, last 2 cols):\\n\", arr4[:2, -2:])\n"
      ]
    },
    {
      "cell_type": "markdown",
      "metadata": {},
      "source": []
    }
  ],
  "metadata": {
    "colab": {
      "provenance": []
    },
    "kernelspec": {
      "display_name": "Python 3",
      "name": "python3"
    },
    "language_info": {
      "codemirror_mode": {
        "name": "ipython",
        "version": 3
      },
      "file_extension": ".py",
      "mimetype": "text/x-python",
      "name": "python",
      "nbconvert_exporter": "python",
      "pygments_lexer": "ipython3",
      "version": "3.7.3"
    }
  },
  "nbformat": 4,
  "nbformat_minor": 0
}
